{
 "cells": [
  {
   "cell_type": "markdown",
   "metadata": {},
   "source": [
    "## Yorùbá diacritic restoration &rarr; Quickstart"
   ]
  },
  {
   "cell_type": "markdown",
   "metadata": {},
   "source": [
    "### Step 0  &rarr; Confam the python environment"
   ]
  },
  {
   "cell_type": "code",
   "execution_count": 40,
   "metadata": {},
   "outputs": [
    {
     "name": "stdout",
     "output_type": "stream",
     "text": [
      "/Users/iroro/anaconda3/bin/python\n",
      "3.6.5 |Anaconda, Inc.| (default, Apr 26 2018, 08:42:37) \n",
      "[GCC 4.2.1 Compatible Clang 4.0.1 (tags/RELEASE_401/final)]\n",
      "sys.version_info(major=3, minor=6, micro=5, releaselevel='final', serial=0)\n"
     ]
    }
   ],
   "source": [
    "import sys\n",
    "print(sys.executable)\n",
    "print(sys.version)\n",
    "print(sys.version_info)"
   ]
  },
  {
   "cell_type": "markdown",
   "metadata": {},
   "source": [
    "### Step 1  &rarr; Download pre-built Yorùbá ADR model (200 MB) &rarr; `./models` sub-directory"
   ]
  },
  {
   "cell_type": "code",
   "execution_count": 3,
   "metadata": {},
   "outputs": [
    {
     "name": "stdout",
     "output_type": "stream",
     "text": [
      "  % Total    % Received % Xferd  Average Speed   Time    Time     Time  Current\n",
      "                                 Dload  Upload   Total   Spent    Left  Speed\n",
      "  0     0    0     0    0     0      0      0 --:--:-- --:--:-- --:--:--     0\n",
      "100  200M  100  200M    0     0  5625k      0  0:00:36  0:00:36 --:--:-- 5742k     0  5364k      0  0:00:38  0:00:13  0:00:25 5456k\n"
     ]
    }
   ],
   "source": [
    "! curl -L \"https://dl.bintray.com/ruohoruotsi/prebuilt-models/yo_adr_bahdanau_lstm_256_1_1_step_100000.pt\" -o ./models/yo_adr_bahdanau_lstm_256_1_1_step_100000.pt"
   ]
  },
  {
   "cell_type": "markdown",
   "metadata": {},
   "source": [
    "### Step 2 &rarr; View the file we will now correct\n"
   ]
  },
  {
   "cell_type": "code",
   "execution_count": 41,
   "metadata": {},
   "outputs": [
    {
     "name": "stdout",
     "output_type": "stream",
     "text": [
      "awon okunrin nse ise agbara bi ise ode"
     ]
    }
   ],
   "source": [
    "! cat ./data/test/one_phrase.txt"
   ]
  },
  {
   "cell_type": "markdown",
   "metadata": {},
   "source": [
    "### Step 3 &rarr; Generate correct diacritics"
   ]
  },
  {
   "cell_type": "code",
   "execution_count": 43,
   "metadata": {},
   "outputs": [
    {
     "name": "stderr",
     "output_type": "stream",
     "text": [
      "/Users/iroro/anaconda3/lib/python3.6/site-packages/torch/nn/modules/rnn.py:46: UserWarning: dropout option adds dropout after all but last recurrent layer, so non-zero dropout expects num_layers greater than 1, but got dropout=0.3 and num_layers=1\n",
      "  \"num_layers={}\".format(dropout, num_layers))\n",
      "[2019-04-27 09:43:13,061 INFO] Translating shard 0.\n"
     ]
    },
    {
     "name": "stdout",
     "output_type": "stream",
     "text": [
      "PRED AVG SCORE: -0.1102, PRED PPL: 1.1166\n",
      "\n",
      "awon okunrin nse ise agbara bi ise ode\n",
      "àwọn ọkùnrin nṣe iṣẹ́ agbára bí iṣẹ́ ọdẹ\n"
     ]
    }
   ],
   "source": [
    "%run ./src/translate.py \\\n",
    "        -model models/yo_adr_bahdanau_lstm_256_1_1_step_100000.pt \\\n",
    "        -src data/test/one_phrase.txt \\\n",
    "        -output data/test/pred.txt \\\n",
    "        -replace_unk\n",
    "\n",
    "# View input and output\n",
    "! echo\n",
    "! cat ./data/test/one_phrase.txt\n",
    "! echo \n",
    "! cat ./data/test/pred.txt"
   ]
  },
  {
   "cell_type": "markdown",
   "metadata": {},
   "source": [
    "### (Alternate) Step 3 &rarr; Generate correct diacritics with shell script &rarr; `02_run_prediction.sh`"
   ]
  },
  {
   "cell_type": "code",
   "execution_count": 44,
   "metadata": {},
   "outputs": [
    {
     "name": "stdout",
     "output_type": "stream",
     "text": [
      "[INFO] running inference on test sources\n",
      "/Users/iroro/anaconda3/lib/python3.6/site-packages/torch/nn/modules/rnn.py:46: UserWarning: dropout option adds dropout after all but last recurrent layer, so non-zero dropout expects num_layers greater than 1, but got dropout=0.3 and num_layers=1\n",
      "  \"num_layers={}\".format(dropout, num_layers))\n",
      "[2019-04-27 09:44:00,217 INFO] Translating shard 0.\n",
      "\n",
      "SENT 1: ['awon', 'okunrin', 'nse', 'ise', 'agbara', 'bi', 'ise', 'ode']\n",
      "PRED 1: àwọn ọkùnrin nṣe iṣẹ́ agbára bí iṣẹ́ ọdẹ\n",
      "PRED SCORE: -0.8820\n",
      "PRED AVG SCORE: -0.1102, PRED PPL: 1.1166\n",
      "\n",
      "awon okunrin nse ise agbara bi ise ode\n",
      "àwọn ọkùnrin nṣe iṣẹ́ agbára bí iṣẹ́ ọdẹ\n"
     ]
    }
   ],
   "source": [
    "! bash '02_run_prediction.sh'\n",
    "\n",
    "! echo \n",
    "! cat ./data/test/one_phrase.txt\n",
    "! echo \n",
    "! cat ./data/test/pred.txt"
   ]
  },
  {
   "cell_type": "code",
   "execution_count": null,
   "metadata": {},
   "outputs": [],
   "source": []
  }
 ],
 "metadata": {
  "kernelspec": {
   "display_name": "Python 3",
   "language": "python",
   "name": "python3"
  },
  "language_info": {
   "codemirror_mode": {
    "name": "ipython",
    "version": 3
   },
   "file_extension": ".py",
   "mimetype": "text/x-python",
   "name": "python",
   "nbconvert_exporter": "python",
   "pygments_lexer": "ipython3",
   "version": "3.6.5"
  }
 },
 "nbformat": 4,
 "nbformat_minor": 2
}
